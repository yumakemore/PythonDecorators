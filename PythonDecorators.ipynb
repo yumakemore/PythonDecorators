{
  "cells": [
    {
      "cell_type": "markdown",
      "metadata": {
        "id": "view-in-github",
        "colab_type": "text"
      },
      "source": [
        "<a href=\"https://colab.research.google.com/github/yumakemore/PythonDecorators/blob/main/PythonDecorators.ipynb\" target=\"_parent\"><img src=\"https://colab.research.google.com/assets/colab-badge.svg\" alt=\"Open In Colab\"/></a>"
      ]
    },
    {
      "cell_type": "markdown",
      "id": "9c8a5166",
      "metadata": {
        "id": "9c8a5166"
      },
      "source": [
        "# Example 1"
      ]
    },
    {
      "cell_type": "code",
      "execution_count": null,
      "id": "d04b52b8",
      "metadata": {
        "id": "d04b52b8"
      },
      "outputs": [],
      "source": [
        "def repeat(_func=None, *, num_times=2):\n",
        "    def decorator_repeat(func):\n",
        "        @functools.wraps(func)\n",
        "        def wrapper_repeat(*args, **kwargs):\n",
        "            for _ in range(num_times):\n",
        "                value = func(*args, **kwargs)\n",
        "            return value\n",
        "        return wrapper_repeat\n",
        "\n",
        "    if _func is None:\n",
        "        return decorator_repeat\n",
        "    else:\n",
        "        return decorator_repeat(_func)"
      ]
    },
    {
      "cell_type": "code",
      "execution_count": null,
      "id": "6cc06078",
      "metadata": {
        "id": "6cc06078"
      },
      "outputs": [],
      "source": [
        "@repeat\n",
        "def say_whee():\n",
        "    print(\"Whee!\")\n",
        "\n",
        "@repeat(num_times=3)\n",
        "def greet(name):\n",
        "    print(f\"Hello {name}\")"
      ]
    },
    {
      "cell_type": "code",
      "execution_count": null,
      "id": "56cd5b3e",
      "metadata": {
        "id": "56cd5b3e",
        "outputId": "7cc9676a-8d3e-49f0-ae0b-4543b0abd2ba"
      },
      "outputs": [
        {
          "name": "stdout",
          "output_type": "stream",
          "text": [
            "Whee!\n",
            "Whee!\n"
          ]
        }
      ],
      "source": [
        "say_whee()"
      ]
    },
    {
      "cell_type": "code",
      "execution_count": null,
      "id": "efb94585",
      "metadata": {
        "id": "efb94585",
        "outputId": "5eff1f1d-748a-4140-89f2-fb83d6638c37"
      },
      "outputs": [
        {
          "name": "stdout",
          "output_type": "stream",
          "text": [
            "Hello Penny\n",
            "Hello Penny\n",
            "Hello Penny\n"
          ]
        }
      ],
      "source": [
        "greet(\"Penny\")"
      ]
    },
    {
      "cell_type": "markdown",
      "id": "467a14e6",
      "metadata": {
        "id": "467a14e6"
      },
      "source": [
        "# Example 2"
      ]
    },
    {
      "cell_type": "code",
      "execution_count": null,
      "id": "1aef731a",
      "metadata": {
        "id": "1aef731a"
      },
      "outputs": [],
      "source": [
        "import functools\n",
        "import time\n",
        "\n",
        "def slow_down(_func=None, *, rate=1):\n",
        "    \"\"\"Sleep given amount of seconds before calling the function\"\"\"\n",
        "    def decorator_slow_down(func):\n",
        "        @functools.wraps(func)\n",
        "        def wrapper_slow_down(*args, **kwargs):\n",
        "            time.sleep(rate)\n",
        "            return func(*args, **kwargs)\n",
        "        return wrapper_slow_down\n",
        "\n",
        "    if _func is None:\n",
        "        return decorator_slow_down\n",
        "    else:\n",
        "        return decorator_slow_down(_func)"
      ]
    },
    {
      "cell_type": "code",
      "execution_count": null,
      "id": "87c76084",
      "metadata": {
        "id": "87c76084"
      },
      "outputs": [],
      "source": [
        "@slow_down(rate=2)\n",
        "def countdown(from_number):\n",
        "    if from_number < 1:\n",
        "        print(\"Liftoff!\")\n",
        "    else:\n",
        "        print(from_number)\n",
        "        countdown(from_number - 1)"
      ]
    },
    {
      "cell_type": "code",
      "execution_count": null,
      "id": "29f67851",
      "metadata": {
        "id": "29f67851",
        "outputId": "a293c4b4-0116-42a6-bdf1-d922c77eb364"
      },
      "outputs": [
        {
          "name": "stdout",
          "output_type": "stream",
          "text": [
            "3\n",
            "2\n",
            "1\n",
            "Liftoff!\n"
          ]
        }
      ],
      "source": [
        "countdown(3)"
      ]
    },
    {
      "cell_type": "markdown",
      "id": "768b010e",
      "metadata": {
        "id": "768b010e"
      },
      "source": [
        "# Example 3"
      ]
    },
    {
      "cell_type": "code",
      "execution_count": null,
      "id": "6b26df7b",
      "metadata": {
        "id": "6b26df7b"
      },
      "outputs": [],
      "source": [
        "import functools\n",
        "\n",
        "def singleton(cls):\n",
        "    \"\"\"Make a class a Singleton class (only one instance)\"\"\"\n",
        "    @functools.wraps(cls)\n",
        "    def wrapper_singleton(*args, **kwargs):\n",
        "        if not wrapper_singleton.instance:\n",
        "            wrapper_singleton.instance = cls(*args, **kwargs)\n",
        "        return wrapper_singleton.instance\n",
        "    wrapper_singleton.instance = None\n",
        "    return wrapper_singleton\n",
        "\n",
        "@singleton\n",
        "class TheOne:\n",
        "    pass"
      ]
    },
    {
      "cell_type": "code",
      "execution_count": null,
      "id": "829d4a2d",
      "metadata": {
        "id": "829d4a2d",
        "outputId": "31035dc9-6a00-4d76-f730-67e3d4153558"
      },
      "outputs": [
        {
          "name": "stdout",
          "output_type": "stream",
          "text": [
            "140275391984208\n",
            "140275391984208\n"
          ]
        },
        {
          "data": {
            "text/plain": [
              "True"
            ]
          },
          "execution_count": 19,
          "metadata": {},
          "output_type": "execute_result"
        }
      ],
      "source": [
        "first_one = TheOne()\n",
        "another_one = TheOne()\n",
        "print(id(first_one))\n",
        "print(id(another_one))\n",
        "first_one is another_one"
      ]
    },
    {
      "cell_type": "markdown",
      "id": "058eedf3",
      "metadata": {
        "id": "058eedf3"
      },
      "source": [
        "# Stateful Decorators"
      ]
    },
    {
      "cell_type": "code",
      "execution_count": null,
      "id": "412f174e",
      "metadata": {
        "id": "412f174e"
      },
      "outputs": [],
      "source": [
        "import functools\n",
        "\n",
        "class CountCalls:\n",
        "    def __init__(self, func):\n",
        "        functools.update_wrapper(self, func)\n",
        "        self.func = func\n",
        "        self.num_calls = 0\n",
        "\n",
        "    def __call__(self, *args, **kwargs):\n",
        "        self.num_calls += 1\n",
        "        print(f\"Call {self.num_calls} of {self.func.__name__!r}\")\n",
        "        return self.func(*args, **kwargs)\n",
        "\n",
        "def cache(func):\n",
        "    \"\"\"Keep a cache of previous function calls\"\"\"\n",
        "    @functools.wraps(func)\n",
        "    def wrapper_cache(*args, **kwargs):\n",
        "        cache_key = args + tuple(kwargs.items())\n",
        "        if cache_key not in wrapper_cache.cache:\n",
        "            wrapper_cache.cache[cache_key] = func(*args, **kwargs)\n",
        "        return wrapper_cache.cache[cache_key]\n",
        "    wrapper_cache.cache = dict()\n",
        "    return wrapper_cache\n",
        "\n",
        "@cache\n",
        "@CountCalls\n",
        "def fibonacci(num):\n",
        "    if num < 2:\n",
        "        return num\n",
        "    return fibonacci(num - 1) + fibonacci(num - 2)"
      ]
    },
    {
      "cell_type": "code",
      "execution_count": null,
      "id": "e5e9ec05",
      "metadata": {
        "id": "e5e9ec05",
        "outputId": "1cec31f1-8a67-40d3-b30a-bce8b42c320d"
      },
      "outputs": [
        {
          "name": "stdout",
          "output_type": "stream",
          "text": [
            "Call 1 of 'fibonacci'\n",
            "Call 2 of 'fibonacci'\n",
            "Call 3 of 'fibonacci'\n",
            "Call 4 of 'fibonacci'\n",
            "Call 5 of 'fibonacci'\n",
            "Call 6 of 'fibonacci'\n",
            "Call 7 of 'fibonacci'\n",
            "Call 8 of 'fibonacci'\n",
            "Call 9 of 'fibonacci'\n",
            "Call 10 of 'fibonacci'\n",
            "Call 11 of 'fibonacci'\n"
          ]
        },
        {
          "data": {
            "text/plain": [
              "55"
            ]
          },
          "execution_count": 23,
          "metadata": {},
          "output_type": "execute_result"
        }
      ],
      "source": [
        "fibonacci(10)"
      ]
    },
    {
      "cell_type": "code",
      "execution_count": null,
      "id": "e82193b9",
      "metadata": {
        "id": "e82193b9",
        "outputId": "927c20be-0530-4e5f-bff1-d794a0bc7d35"
      },
      "outputs": [
        {
          "data": {
            "text/plain": [
              "21"
            ]
          },
          "execution_count": 24,
          "metadata": {},
          "output_type": "execute_result"
        }
      ],
      "source": [
        "fibonacci(8)"
      ]
    },
    {
      "cell_type": "markdown",
      "id": "55d6e671",
      "metadata": {
        "id": "55d6e671"
      },
      "source": [
        "'''\n",
        "Note that in the final call to fibonacci(8), no new calculations were needed, since the eighth Fibonacci number had already been calculated for fibonacci(10).\n",
        "\n",
        "In the standard library, a Least Recently Used (LRU) cache is available as @functools.lru_cache.\n",
        "\n",
        "This decorator has more features than the one you saw above. You should use @functools.lru_cache instead of writing your own cache decorator:\n",
        "'''"
      ]
    },
    {
      "cell_type": "code",
      "execution_count": null,
      "id": "aedd11b3",
      "metadata": {
        "id": "aedd11b3"
      },
      "outputs": [],
      "source": [
        "import functools\n",
        "\n",
        "@functools.lru_cache(maxsize=4)\n",
        "def fibonacci(num):\n",
        "    print(f\"Calculating fibonacci({num})\")\n",
        "    if num < 2:\n",
        "        return num\n",
        "    return fibonacci(num - 1) + fibonacci(num - 2)"
      ]
    },
    {
      "cell_type": "code",
      "execution_count": null,
      "id": "2ba9b58e",
      "metadata": {
        "id": "2ba9b58e",
        "outputId": "0c44773d-054c-4c05-9b0f-5695af368e0f"
      },
      "outputs": [
        {
          "name": "stdout",
          "output_type": "stream",
          "text": [
            "Calculating fibonacci(10)\n",
            "Calculating fibonacci(9)\n",
            "Calculating fibonacci(8)\n",
            "Calculating fibonacci(7)\n",
            "Calculating fibonacci(6)\n",
            "Calculating fibonacci(5)\n",
            "Calculating fibonacci(4)\n",
            "Calculating fibonacci(3)\n",
            "Calculating fibonacci(2)\n",
            "Calculating fibonacci(1)\n",
            "Calculating fibonacci(0)\n"
          ]
        },
        {
          "data": {
            "text/plain": [
              "55"
            ]
          },
          "execution_count": 26,
          "metadata": {},
          "output_type": "execute_result"
        }
      ],
      "source": [
        "fibonacci(10)"
      ]
    },
    {
      "cell_type": "code",
      "execution_count": null,
      "id": "c7eb8bc9",
      "metadata": {
        "id": "c7eb8bc9",
        "outputId": "5d81e5bb-6e3c-4daa-929a-d225f2f7a47e"
      },
      "outputs": [
        {
          "data": {
            "text/plain": [
              "21"
            ]
          },
          "execution_count": 27,
          "metadata": {},
          "output_type": "execute_result"
        }
      ],
      "source": [
        "fibonacci(8)"
      ]
    },
    {
      "cell_type": "markdown",
      "id": "f4b7bfc8",
      "metadata": {
        "id": "f4b7bfc8"
      },
      "source": [
        "reference: https://realpython.com/primer-on-python-decorators/#a-few-real-world-examples"
      ]
    }
  ],
  "metadata": {
    "kernelspec": {
      "display_name": "Python 3.8.8 64-bit ('base': conda)",
      "language": "python",
      "name": "python388jvsc74a57bd009b8eeeb1518a873c605fdd8ded026f7fc1485fb1efe7accb735d3f3578ead1f"
    },
    "language_info": {
      "codemirror_mode": {
        "name": "ipython",
        "version": 3
      },
      "file_extension": ".py",
      "mimetype": "text/x-python",
      "name": "python",
      "nbconvert_exporter": "python",
      "pygments_lexer": "ipython3",
      "version": "3.8.8"
    },
    "colab": {
      "name": "PythonDecorators.ipynb",
      "provenance": [],
      "include_colab_link": true
    }
  },
  "nbformat": 4,
  "nbformat_minor": 5
}